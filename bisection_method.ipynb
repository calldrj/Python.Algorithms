{
 "cells": [
  {
   "cell_type": "code",
   "execution_count": 4,
   "metadata": {},
   "outputs": [],
   "source": [
    "import math as m\n",
    "\n",
    "def sign(f):\n",
    "    s = 1 if f > 0 else -1\n",
    "    return s\n",
    "\n",
    "def f(x):\n",
    "    # 12\n",
    "    f = (x + 2) * (x + 1) * x * ((x - 1)**3) * (x - 2)\n",
    "    \n",
    "    return f\n",
    "\n",
    "def bisection(a, b, epsilon=10**(-5)):\n",
    "    n = 0\n",
    "    \n",
    "    while b - a > epsilon:\n",
    "        p, n = a + (b - a) / 2, n + 1\n",
    "        \n",
    "        print('Iteration #{}:\\n\\ta = {:.6f}\\tb = {:.6f}\\tp = {:.6f}\\tf(p) = {:.6f}\\n'\\\n",
    "              .format(n, a, b, p, f(p)))\n",
    "        \n",
    "        if f(p) == 0:\n",
    "            return p\n",
    "        \n",
    "        if sign(f(p)) * sign(f(a)) < 0:\n",
    "            b = p\n",
    "        else:\n",
    "            a = p\n",
    "            \n",
    "    return p"
   ]
  },
  {
   "cell_type": "code",
   "execution_count": 5,
   "metadata": {},
   "outputs": [
    {
     "name": "stdout",
     "output_type": "stream",
     "text": [
      "Iteration #1:\n",
      "\ta = -1.500000\tb = 2.500000\tp = 0.500000\tf(p) = 0.351562\n",
      "\n",
      "Iteration #2:\n",
      "\ta = 0.500000\tb = 2.500000\tp = 1.500000\tf(p) = -0.820312\n",
      "\n",
      "Iteration #3:\n",
      "\ta = 0.500000\tb = 1.500000\tp = 1.000000\tf(p) = -0.000000\n",
      "\n",
      "root =  1.0\n",
      "|f(root)| =  0.0\n"
     ]
    }
   ],
   "source": [
    "# 12\n",
    "a, b, epsilon = -1.5, 2.5, 10**-5\n",
    "root = bisection(a, b, epsilon)\n",
    "print('root = ', root)\n",
    "print('|f(root)| = ', abs(f(root)))"
   ]
  },
  {
   "cell_type": "code",
   "execution_count": null,
   "metadata": {},
   "outputs": [],
   "source": []
  }
 ],
 "metadata": {
  "kernelspec": {
   "display_name": "Python 3",
   "language": "python",
   "name": "python3"
  },
  "language_info": {
   "codemirror_mode": {
    "name": "ipython",
    "version": 3
   },
   "file_extension": ".py",
   "mimetype": "text/x-python",
   "name": "python",
   "nbconvert_exporter": "python",
   "pygments_lexer": "ipython3",
   "version": "3.7.7"
  }
 },
 "nbformat": 4,
 "nbformat_minor": 4
}
