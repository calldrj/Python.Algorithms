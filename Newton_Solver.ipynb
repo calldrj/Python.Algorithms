{
 "cells": [
  {
   "cell_type": "code",
   "execution_count": 1,
   "metadata": {},
   "outputs": [],
   "source": [
    "import math as m\n",
    "\n",
    "def f(x):\n",
    "    return m.sin(x)\n",
    "\n",
    "def f_prime(x):\n",
    "    return m.cos(x)\n",
    "\n",
    "def newton_solver(p0, a, b, N=50, epsilon=10**-5):\n",
    "    n = 1\n",
    "    while n < N:\n",
    "        f_p0, f_prime_p0 = f(p0), f_prime(p0)\n",
    "        p = p0 - f_p0 / f_prime_p0\n",
    "        print('Iteration #{}:\\n\\tp0 = {:.6f}\\t'\n",
    "              'p = {:.6f}\\tf(p0) = {:.6f}\\t'\n",
    "              'f_prime(p0) = {:.6f}\\n'\\\n",
    "              .format(n, p0, p, f_p0, f_prime_p0))\n",
    "        \n",
    "        if abs(p - p0) < epsilon:\n",
    "            return p\n",
    "        \n",
    "        p0, n = p, n + 1\n",
    "        \n",
    "    return None"
   ]
  },
  {
   "cell_type": "code",
   "execution_count": 2,
   "metadata": {},
   "outputs": [
    {
     "name": "stdout",
     "output_type": "stream",
     "text": [
      "Iteration #1:\n",
      "\tp0 = 0.535398\tp = -0.057793\tf(p0) = 0.510184\tf_prime(p0) = 0.860066\n",
      "\n",
      "Iteration #2:\n",
      "\tp0 = -0.057793\tp = 0.000064\tf(p0) = -0.057761\tf_prime(p0) = 0.998330\n",
      "\n",
      "Iteration #3:\n",
      "\tp0 = 0.000064\tp = -0.000000\tf(p0) = 0.000064\tf_prime(p0) = 1.000000\n",
      "\n",
      "Iteration #4:\n",
      "\tp0 = -0.000000\tp = 0.000000\tf(p0) = -0.000000\tf_prime(p0) = 1.000000\n",
      "\n",
      "root = 0.000000\n"
     ]
    }
   ],
   "source": [
    "a, b, epsilon = -.5, m.pi/2, 10**-6\n",
    "N, p0 = 20, (a + b)/2\n",
    "\n",
    "if abs(f(a)) < epsilon:\n",
    "    print('root = {:.6f}'.format(a))\n",
    "elif abs(f(b)) < epsilon:\n",
    "    print('root = {:.6f}'.format(b))\n",
    "else:\n",
    "    root = newton_solver(p0, a, b, N, epsilon)\n",
    "    if root == None:\n",
    "        print('Solver cannot find a root!')\n",
    "    elif root > b or root < a:\n",
    "        print('Function does not have a root in ({}, {})!'.format(a, b))\n",
    "    else:\n",
    "        print('root = {:.6f}'.format(root))"
   ]
  },
  {
   "cell_type": "code",
   "execution_count": 3,
   "metadata": {},
   "outputs": [
    {
     "name": "stdout",
     "output_type": "stream",
     "text": [
      "Iteration #1:\n",
      "\tp0 = 3.285398\tp = 3.140593\tf(p0) = -0.143310\tf_prime(p0) = -0.989678\n",
      "\n",
      "Iteration #2:\n",
      "\tp0 = 3.140593\tp = 3.141593\tf(p0) = 0.001000\tf_prime(p0) = -1.000000\n",
      "\n",
      "Iteration #3:\n",
      "\tp0 = 3.141593\tp = 3.141593\tf(p0) = -0.000000\tf_prime(p0) = -1.000000\n",
      "\n",
      "root = 3.141593\n"
     ]
    }
   ],
   "source": [
    "a, b, epsilon = m.pi/2, 5, 10**-6\n",
    "N, p0 = 20, (a + b)/2\n",
    "\n",
    "if abs(f(a)) < epsilon:\n",
    "    print('root = {:.6f}'.format(a))\n",
    "elif abs(f(b)) < epsilon:\n",
    "    print('root = {:.6f}'.format(b))\n",
    "else:\n",
    "    root = newton_solver(p0, a, b, N, epsilon)\n",
    "    if root == None:\n",
    "        print('Solver cannot find a root!')\n",
    "    elif root > b or root < a:\n",
    "        print('Function does not have a root in ({}, {})!'.format(a, b))\n",
    "    else:\n",
    "        print('root = {:.6f}'.format(root))"
   ]
  },
  {
   "cell_type": "code",
   "execution_count": null,
   "metadata": {},
   "outputs": [],
   "source": []
  }
 ],
 "metadata": {
  "kernelspec": {
   "display_name": "Python 3",
   "language": "python",
   "name": "python3"
  },
  "language_info": {
   "codemirror_mode": {
    "name": "ipython",
    "version": 3
   },
   "file_extension": ".py",
   "mimetype": "text/x-python",
   "name": "python",
   "nbconvert_exporter": "python",
   "pygments_lexer": "ipython3",
   "version": "3.7.7"
  }
 },
 "nbformat": 4,
 "nbformat_minor": 4
}
