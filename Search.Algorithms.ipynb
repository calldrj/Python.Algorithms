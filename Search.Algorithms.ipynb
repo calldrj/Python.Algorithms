{
 "cells": [
  {
   "cell_type": "code",
   "execution_count": 40,
   "metadata": {},
   "outputs": [],
   "source": [
    "def binary_search(A, n):\n",
    "    mid = len(A) // 2\n",
    "    if mid == 0 and A[mid] != n:\n",
    "        return False\n",
    "    elif A[mid] > n:\n",
    "        return binary_search(A[:mid], n)\n",
    "    elif A[mid] < n:\n",
    "        return binary_search(A[-mid:], n)\n",
    "    else:\n",
    "        return True"
   ]
  },
  {
   "cell_type": "code",
   "execution_count": 47,
   "metadata": {},
   "outputs": [
    {
     "name": "stdout",
     "output_type": "stream",
     "text": [
      "[12, 16, 16, 18, 21, 25, 28, 29, 35, 42, 42, 49, 61, 61, 61, 62, 65, 69, 88, 90, 93, 95, 96, 97, 98]\n",
      "False\n"
     ]
    }
   ],
   "source": [
    "import random\n",
    "size = 25\n",
    "A = [random.randint(10, 99) for _ in range(size)]\n",
    "A = sorted(A)\n",
    "print(A)\n",
    "print(binary_search(A, random.randint(10, 99)))"
   ]
  },
  {
   "cell_type": "code",
   "execution_count": null,
   "metadata": {},
   "outputs": [],
   "source": []
  },
  {
   "cell_type": "code",
   "execution_count": null,
   "metadata": {},
   "outputs": [],
   "source": []
  }
 ],
 "metadata": {
  "kernelspec": {
   "display_name": "Python 3",
   "language": "python",
   "name": "python3"
  },
  "language_info": {
   "codemirror_mode": {
    "name": "ipython",
    "version": 3
   },
   "file_extension": ".py",
   "mimetype": "text/x-python",
   "name": "python",
   "nbconvert_exporter": "python",
   "pygments_lexer": "ipython3",
   "version": "3.7.7"
  }
 },
 "nbformat": 4,
 "nbformat_minor": 4
}
