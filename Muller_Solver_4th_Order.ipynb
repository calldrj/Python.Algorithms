{
 "cells": [
  {
   "cell_type": "code",
   "execution_count": 1,
   "metadata": {},
   "outputs": [],
   "source": [
    "def horner_eval(A, x0):\n",
    "    n = len(A)\n",
    "    y = z = A[0]\n",
    "    for k in A[1:n - 1]:\n",
    "        y = x0 * y + k\n",
    "        z = x0 * z + y\n",
    "    y = x0 * y + A[n - 1]\n",
    "    return y, z\n",
    "    \n",
    "def muller_solver(A, P, n_max, epsilon):\n",
    "    k = 3\n",
    "    while k < n_max:\n",
    "        f = [horner_eval(A, p)[0] for p in P]\n",
    "        h1, h2 = P[1] - P[0], P[2] - P[1]\n",
    "        d1, d2 = (f[1] - f[0]) / h1, (f[2] - f[1]) / h2\n",
    "        d = (d2 - d1) / (h2 + h1)\n",
    "        b = d2 + h2 * d\n",
    "        t = (b**2 - 4 * f[2] * d)**.5\n",
    "        e = b + t if abs(b - t) < abs(b + t) else b - t\n",
    "        h = -2 * f[2] / e\n",
    "        r = P[2] + h\n",
    "        print('Interation #{}:\\tp = {:.6f}\\tf(p) = {:.6f}\\n'\\\n",
    "              .format(k - 2, r, horner_eval(A, r)[0]))\n",
    "        if abs(h) < epsilon:\n",
    "            return r\n",
    "        P = [P[1], P[2], r]\n",
    "        k += 1\n",
    "    return None\n",
    "\n",
    "def newton_solver(A, p0, n_max=50, epsilon=10**-5):\n",
    "    k = 1\n",
    "    while k < n_max:\n",
    "        f_p0, f_prime_p0 = horner_eval(A, p0)\n",
    "        if f_prime_p0 == 0:\n",
    "            return False\n",
    "        p = p0 - f_p0 / f_prime_p0\n",
    "        print('Iteration #{}:\\n\\tp0 = {:.6f}\\t'\n",
    "              'f(p0) = {:.6f}\\n'.format(k, p0, f_p0))\n",
    "        if abs(p - p0) < epsilon:\n",
    "            return p\n",
    "        p0, k = p, k + 1     \n",
    "    return None"
   ]
  },
  {
   "cell_type": "code",
   "execution_count": 2,
   "metadata": {},
   "outputs": [
    {
     "name": "stdout",
     "output_type": "stream",
     "text": [
      "Interation #1:\tp = -2.374776\tf(p) = -20.058912\n",
      "\n",
      "Interation #2:\tp = -3.007014\tf(p) = -15.971941\n",
      "\n",
      "Interation #3:\tp = -3.037592+1.308548j\tf(p) = -14.283544+10.747982j\n",
      "\n",
      "Interation #4:\tp = -2.242649+1.410871j\tf(p) = 7.029191-9.035056j\n",
      "\n",
      "Interation #5:\tp = -2.514827+1.358934j\tf(p) = 0.932745+1.164055j\n",
      "\n",
      "Interation #6:\tp = -2.498973+1.322295j\tf(p) = -0.001269-0.044097j\n",
      "\n",
      "Interation #7:\tp = -2.500001+1.322878j\tf(p) = 0.000054+0.000072j\n",
      "\n",
      "Interation #8:\tp = -2.500000+1.322876j\tf(p) = -0.000000+0.000000j\n",
      "\n",
      "root = -2.500000+1.322876j, -2.500000-1.322876j\n"
     ]
    }
   ],
   "source": [
    "A = [1, 5, -9, -85, -136]\n",
    "P = [1, -6, -2]\n",
    "n_max, epsilon = 20, 10**-5\n",
    "root = muller_solver(A, P, n_max, epsilon)\n",
    "if root == None:\n",
    "    print('Algorithm cannot find roots!')\n",
    "elif abs(root.imag) < epsilon:\n",
    "    print('root = {:.6f}'.format(root))\n",
    "else:\n",
    "    print('root = {:.6f}, {:.6f}'.format(root, root.conjugate()))"
   ]
  },
  {
   "cell_type": "code",
   "execution_count": 3,
   "metadata": {},
   "outputs": [
    {
     "name": "stdout",
     "output_type": "stream",
     "text": [
      "Interation #1:\tp = 3.546146\tf(p) = -169.497824\n",
      "\n",
      "Interation #2:\tp = 4.015756\tf(p) = -38.621978\n",
      "\n",
      "Interation #3:\tp = 4.130157\tf(p) = 2.660232\n",
      "\n",
      "Interation #4:\tp = 4.123081\tf(p) = -0.009120\n",
      "\n",
      "Interation #5:\tp = 4.123106\tf(p) = -0.000000\n",
      "\n",
      "Interation #6:\tp = 4.123106\tf(p) = 0.000000\n",
      "\n",
      "root = 4.123106\n"
     ]
    }
   ],
   "source": [
    "A = [1, 5, -9, -85, -136]\n",
    "P = [1, 6, 2]\n",
    "n_max, epsilon = 20, 10**-5\n",
    "root = muller_solver(A, P, n_max, epsilon)\n",
    "if root == None:\n",
    "    print('Algorithm cannot find roots!')\n",
    "elif abs(root.imag) < epsilon:\n",
    "    print('root = {:.6f}'.format(root))\n",
    "else:\n",
    "    print('root = {:.6f}'.format(root, root.conjugate()))"
   ]
  },
  {
   "cell_type": "code",
   "execution_count": 4,
   "metadata": {},
   "outputs": [
    {
     "name": "stdout",
     "output_type": "stream",
     "text": [
      "Interation #1:\tp = -2.533503\tf(p) = -18.529264\n",
      "\n",
      "Interation #2:\tp = -3.099789\tf(p) = -15.593788\n",
      "\n",
      "Interation #3:\tp = -3.575173\tf(p) = -12.257895\n",
      "\n",
      "Interation #4:\tp = -4.799790\tf(p) = 42.501562\n",
      "\n",
      "Interation #5:\tp = -4.021587\tf(p) = -3.361277\n",
      "\n",
      "Interation #6:\tp = -4.112339\tf(p) = -0.385688\n",
      "\n",
      "Interation #7:\tp = -4.122865\tf(p) = -0.008701\n",
      "\n",
      "Interation #8:\tp = -4.123106\tf(p) = 0.000003\n",
      "\n",
      "Interation #9:\tp = -4.123106\tf(p) = -0.000000\n",
      "\n",
      "root = -4.123106\n"
     ]
    }
   ],
   "source": [
    "A = [1, 5, -9, -85, -136]\n",
    "P = [-1, -2, -6]\n",
    "n_max, epsilon = 20, 10**-5\n",
    "root = muller_solver(A, P, n_max, epsilon)\n",
    "if root == None:\n",
    "    print('Algorithm cannot find roots!')\n",
    "elif abs(root.imag) < epsilon:\n",
    "    print('root = {:.6f}'.format(root))\n",
    "else:\n",
    "    print('root = {:.6f}'.format(root, root.conjugate()))"
   ]
  },
  {
   "cell_type": "code",
   "execution_count": null,
   "metadata": {},
   "outputs": [],
   "source": []
  }
 ],
 "metadata": {
  "kernelspec": {
   "display_name": "Python 3",
   "language": "python",
   "name": "python3"
  },
  "language_info": {
   "codemirror_mode": {
    "name": "ipython",
    "version": 3
   },
   "file_extension": ".py",
   "mimetype": "text/x-python",
   "name": "python",
   "nbconvert_exporter": "python",
   "pygments_lexer": "ipython3",
   "version": "3.7.7"
  }
 },
 "nbformat": 4,
 "nbformat_minor": 4
}
