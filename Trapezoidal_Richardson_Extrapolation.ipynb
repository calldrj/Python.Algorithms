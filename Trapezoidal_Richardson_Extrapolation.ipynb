{
 "cells": [
  {
   "cell_type": "code",
   "execution_count": 1,
   "metadata": {},
   "outputs": [],
   "source": [
    "import matplotlib.pyplot as plt\n",
    "import numpy as np\n",
    "import pandas as pd\n",
    "pd.set_option('precision', 9)\n",
    "\n",
    "def eval_f(x):\n",
    "    return (1 - x**2)**(-0.5)\n",
    "\n",
    "def trapezoidal_single(x0, h):\n",
    "    return h * (eval_f(x0) + eval_f(x0 + h)) / 2\n",
    "\n",
    "def trapezoidal_composite(x0, xn, h):\n",
    "    n = int((xn - x0) / h)\n",
    "    X = np.linspace(x0, xn, num=n+1)\n",
    "    return sum(trapezoidal_single(x0, h) for x0 in X[:-1])"
   ]
  },
  {
   "cell_type": "code",
   "execution_count": 2,
   "metadata": {},
   "outputs": [
    {
     "data": {
      "image/png": "[encoded data removed]",
      "text/plain": [
       "<Figure size 864x576 with 1 Axes>"
      ]
     },
     "metadata": {
      "needs_background": "light"
     },
     "output_type": "display_data"
    },
    {
     "name": "stdout",
     "output_type": "stream",
     "text": [
      "\n",
      "The area under the trapezoid ~ 4.003961965\n",
      "\n",
      "The area under the red curve ~ 1.432052843 (Trapezoidal Rule with h = 0.01)\n",
      "\n",
      "The area under the red curve = 1.429256853 (exact integral)\n"
     ]
    }
   ],
   "source": [
    "x0, xn, h = 0, 0.99, 0.01\n",
    "n = int((xn - x0) / h)\n",
    "\n",
    "X = np.linspace(x0, xn, num=n+1)\n",
    "Y = [eval_f(x) for x in X]\n",
    "\n",
    "plt.figure(figsize=[12, 8])\n",
    "plt.plot(X, Y, color='r', label='y = 1 / sqrt(1 - x^2)')\n",
    "plt.plot([x0, xn], [0, 0], '--', label='y = 0', color='g')\n",
    "plt.plot([x0, x0], [0, eval_f(x0)], '--', label='x = 0', color='g')\n",
    "plt.plot([xn, xn], [0, eval_f(xn)], '--', label='x = 0.99', color='g')\n",
    "plt.plot([x0, xn], [eval_f(x0), eval_f(xn)], '--', color='g')\n",
    "plt.grid(which='both', axis='both')\n",
    "plt.legend()\n",
    "plt.show()\n",
    "\n",
    "print('\\nThe area under the trapezoid ~ {:.9f}'.format(trapezoidal_single(x0, xn - x0)))\n",
    " \n",
    "print('\\nThe area under the red curve ~ {:.9f} (Trapezoidal Rule with h = 0.01)'\\\n",
    "      .format(trapezoidal_composite(x0, xn, h)))\n",
    "print('\\nThe area under the red curve = {:.9f} (exact integral)'\\\n",
    "      .format(np.arcsin(xn)))"
   ]
  },
  {
   "cell_type": "code",
   "execution_count": 3,
   "metadata": {},
   "outputs": [],
   "source": [
    "x0, xn, h = 0, 0.99, 0.01\n",
    "D = []\n",
    "\n",
    "for k in range(5):\n",
    "    s = trapezoidal_composite(x0, xn, h)\n",
    "    m = e / abs(np.arcsin(xn) - s) if k > 0 else '--'\n",
    "    o = np.log(m - 2) if k > 0 else '--'\n",
    "    e = abs(np.arcsin(xn) - s)\n",
    "    D.append([h, s, e, m, o])\n",
    "    h /= 2"
   ]
  },
  {
   "cell_type": "code",
   "execution_count": 4,
   "metadata": {},
   "outputs": [
    {
     "data": {
      "text/html": [
       "<div>\n",
       "<style scoped>\n",
       "    .dataframe tbody tr th:only-of-type {\n",
       "        vertical-align: middle;\n",
       "    }\n",
       "\n",
       "    .dataframe tbody tr th {\n",
       "        vertical-align: top;\n",
       "    }\n",
       "\n",
       "    .dataframe thead th {\n",
       "        text-align: right;\n",
       "    }\n",
       "</style>\n",
       "<table border=\"1\" class=\"dataframe\">\n",
       "  <thead>\n",
       "    <tr style=\"text-align: right;\">\n",
       "      <th></th>\n",
       "      <th>Step size, h</th>\n",
       "      <th>Comp. Trap. Rule, S(h)</th>\n",
       "      <th>Absolute Error</th>\n",
       "      <th>Reduced Factor</th>\n",
       "      <th>Order</th>\n",
       "    </tr>\n",
       "  </thead>\n",
       "  <tbody>\n",
       "    <tr>\n",
       "      <th>0</th>\n",
       "      <td>0.010000</td>\n",
       "      <td>1.432052843</td>\n",
       "      <td>0.002795989</td>\n",
       "      <td>--</td>\n",
       "      <td>--</td>\n",
       "    </tr>\n",
       "    <tr>\n",
       "      <th>1</th>\n",
       "      <td>0.005000</td>\n",
       "      <td>1.429980958</td>\n",
       "      <td>0.000724104</td>\n",
       "      <td>3.86130639</td>\n",
       "      <td>0.621278602</td>\n",
       "    </tr>\n",
       "    <tr>\n",
       "      <th>2</th>\n",
       "      <td>0.002500</td>\n",
       "      <td>1.429439827</td>\n",
       "      <td>0.000182974</td>\n",
       "      <td>3.95742007</td>\n",
       "      <td>0.671627316</td>\n",
       "    </tr>\n",
       "    <tr>\n",
       "      <th>3</th>\n",
       "      <td>0.001250</td>\n",
       "      <td>1.429302728</td>\n",
       "      <td>0.000045875</td>\n",
       "      <td>3.98857198</td>\n",
       "      <td>0.687416784</td>\n",
       "    </tr>\n",
       "    <tr>\n",
       "      <th>4</th>\n",
       "      <td>0.000625</td>\n",
       "      <td>1.429268330</td>\n",
       "      <td>0.000011477</td>\n",
       "      <td>3.99708484</td>\n",
       "      <td>0.691688535</td>\n",
       "    </tr>\n",
       "  </tbody>\n",
       "</table>\n",
       "</div>"
      ],
      "text/plain": [
       "   Step size, h  Comp. Trap. Rule, S(h)  Absolute Error Reduced Factor  \\\n",
       "0      0.010000             1.432052843     0.002795989             --   \n",
       "1      0.005000             1.429980958     0.000724104     3.86130639   \n",
       "2      0.002500             1.429439827     0.000182974     3.95742007   \n",
       "3      0.001250             1.429302728     0.000045875     3.98857198   \n",
       "4      0.000625             1.429268330     0.000011477     3.99708484   \n",
       "\n",
       "         Order  \n",
       "0           --  \n",
       "1  0.621278602  \n",
       "2  0.671627316  \n",
       "3  0.687416784  \n",
       "4  0.691688535  "
      ]
     },
     "execution_count": 4,
     "metadata": {},
     "output_type": "execute_result"
    }
   ],
   "source": [
    "cols = ['Step size, h', 'Comp. Trap. Rule, S(h)', \n",
    "        'Absolute Error', 'Reduced Factor', 'Order']\n",
    "df = pd.DataFrame(D, columns=cols)\n",
    "df"
   ]
  },
  {
   "cell_type": "code",
   "execution_count": null,
   "metadata": {},
   "outputs": [],
   "source": []
  }
 ],
 "metadata": {
  "kernelspec": {
   "display_name": "Python 3",
   "language": "python",
   "name": "python3"
  },
  "language_info": {
   "codemirror_mode": {
    "name": "ipython",
    "version": 3
   },
   "file_extension": ".py",
   "mimetype": "text/x-python",
   "name": "python",
   "nbconvert_exporter": "python",
   "pygments_lexer": "ipython3",
   "version": "3.7.7"
  }
 },
 "nbformat": 4,
 "nbformat_minor": 4
}
