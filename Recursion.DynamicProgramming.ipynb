{
 "cells": [
  {
   "cell_type": "markdown",
   "metadata": {},
   "source": [
    "#### 1. Factorial Computation"
   ]
  },
  {
   "cell_type": "code",
   "execution_count": null,
   "metadata": {},
   "outputs": [],
   "source": [
    "def factorial(n):\n",
    "    return n * factorial(n - 1) if n > 1 else 1"
   ]
  },
  {
   "cell_type": "code",
   "execution_count": null,
   "metadata": {},
   "outputs": [],
   "source": [
    "for k in range(15):\n",
    "    print(factorial(k))"
   ]
  },
  {
   "cell_type": "markdown",
   "metadata": {},
   "source": [
    "#### 2. Palinedrome Verification"
   ]
  },
  {
   "cell_type": "code",
   "execution_count": null,
   "metadata": {},
   "outputs": [],
   "source": [
    "def is_palinedrome(string):\n",
    "    n = len(string)\n",
    "    if n < 2:\n",
    "        return True\n",
    "    else:\n",
    "        return string[-1] == string[0] and is_palinedrome(string[1:n - 1])"
   ]
  },
  {
   "cell_type": "code",
   "execution_count": null,
   "metadata": {},
   "outputs": [],
   "source": [
    "strings = ['', 'a', 'motor', 'rotor']\n",
    "for string in strings:\n",
    "    print(is_palinedrome(string))"
   ]
  },
  {
   "cell_type": "markdown",
   "metadata": {},
   "source": [
    "#### 3. Power of x to n Computation"
   ]
  },
  {
   "cell_type": "code",
   "execution_count": null,
   "metadata": {},
   "outputs": [],
   "source": [
    "def power(x, n):\n",
    "    if n == 0:\n",
    "        return 1\n",
    "    elif n > 0 and n % 2 == 0:\n",
    "        return power(x, n // 2)**2\n",
    "    elif n > 0 and n % 2 == 1:\n",
    "        return x * power(x, (n - 1) // 2)**2\n",
    "    else: \n",
    "        return power(x, -n)**(-1)"
   ]
  },
  {
   "cell_type": "code",
   "execution_count": null,
   "metadata": {},
   "outputs": [],
   "source": [
    "x_n = {1:0, 4:3, 2:6, 10:-2, 5:3}\n",
    "\n",
    "for x, n in x_n.items():\n",
    "    print(power(x, n))"
   ]
  },
  {
   "cell_type": "markdown",
   "metadata": {},
   "source": [
    "#### 4. Improve Factorial Computation Performaces by Dynamic Programming"
   ]
  },
  {
   "cell_type": "code",
   "execution_count": null,
   "metadata": {},
   "outputs": [],
   "source": [
    "def dynamic_factorial(n):\n",
    "    mem = {}\n",
    "    if n < 2:\n",
    "        return 1\n",
    "    elif n in mem:\n",
    "        return mem[n]\n",
    "    else:\n",
    "        mem[n - 1] = factorial(n - 1)\n",
    "        return n * mem[n - 1]"
   ]
  },
  {
   "cell_type": "code",
   "execution_count": null,
   "metadata": {},
   "outputs": [],
   "source": [
    "for k in range(15):\n",
    "    print(dynamic_factorial(k))"
   ]
  },
  {
   "cell_type": "markdown",
   "metadata": {},
   "source": [
    "#### 5. Fibonacci Sequence Computation"
   ]
  },
  {
   "cell_type": "code",
   "execution_count": null,
   "metadata": {},
   "outputs": [],
   "source": [
    "def fibonacci(n):\n",
    "    if n < 2:\n",
    "        return n\n",
    "    else:\n",
    "        return fibonacci(n - 1) + fibonacci(n - 2)"
   ]
  },
  {
   "cell_type": "code",
   "execution_count": null,
   "metadata": {},
   "outputs": [],
   "source": [
    "for k in range(15):\n",
    "    print(fibonacci(k))"
   ]
  },
  {
   "cell_type": "markdown",
   "metadata": {},
   "source": [
    "#### 6. Improve Fibonacci Computation Performaces by Dynamic Programming"
   ]
  },
  {
   "cell_type": "code",
   "execution_count": null,
   "metadata": {},
   "outputs": [],
   "source": [
    "def dynamic_fibonacci(n):\n",
    "    mem = {}\n",
    "    \n",
    "    if n < 2:\n",
    "        return n\n",
    "    elif n in mem:\n",
    "        return mem[n]\n",
    "    else:\n",
    "        if n - 1 not in mem: \n",
    "            mem[n - 1] = dynamic_fibonacci(n - 1)\n",
    "        if n - 2 not in mem: \n",
    "            mem[n - 2] = dynamic_fibonacci(n - 2)\n",
    "        return mem[n - 1] + mem[n - 2]"
   ]
  },
  {
   "cell_type": "code",
   "execution_count": null,
   "metadata": {},
   "outputs": [],
   "source": [
    "for k in range(15):\n",
    "    print(dynamic_fibonacci(k))"
   ]
  },
  {
   "cell_type": "markdown",
   "metadata": {},
   "source": [
    "#### 7. Fibonacci Computation by O(n) Iteration"
   ]
  },
  {
   "cell_type": "code",
   "execution_count": null,
   "metadata": {},
   "outputs": [],
   "source": [
    "def iteration_fibonacci(n):\n",
    "    beg, end = 0, 1\n",
    "    for k in range(2, n + 1):\n",
    "        old_beg, beg  = beg, end\n",
    "        end += old_beg\n",
    "    return beg if n == 0 else end    "
   ]
  },
  {
   "cell_type": "code",
   "execution_count": null,
   "metadata": {},
   "outputs": [],
   "source": [
    "for k in range(15):\n",
    "    print(iteration_fibonacci(k))"
   ]
  },
  {
   "cell_type": "markdown",
   "metadata": {},
   "source": [
    "#### 8. Compute S(n) = 2 * S(n - 1) + S(n - 2)"
   ]
  },
  {
   "cell_type": "code",
   "execution_count": null,
   "metadata": {},
   "outputs": [],
   "source": [
    "def recursive_sum(n):\n",
    "    mem = {}\n",
    "    if n == 1:\n",
    "        return 2\n",
    "    elif n == 2:\n",
    "        return 5\n",
    "    elif n in mem:\n",
    "        return mem[n]\n",
    "    else:\n",
    "        if n - 1 not in mem: \n",
    "            mem[n - 1] = recursive_sum(n - 1)\n",
    "        if n - 2 not in mem:\n",
    "            mem[n - 2] = recursive_sum(n - 2)\n",
    "        return 2 * mem[n - 1] + mem[n - 2]"
   ]
  },
  {
   "cell_type": "code",
   "execution_count": null,
   "metadata": {},
   "outputs": [],
   "source": [
    "k = 12\n",
    "for n in range(1, k):\n",
    "    print('S({}):\\t{}'.format(n, recursive_sum(n)))\n"
   ]
  },
  {
   "cell_type": "code",
   "execution_count": null,
   "metadata": {},
   "outputs": [],
   "source": []
  }
 ],
 "metadata": {
  "kernelspec": {
   "display_name": "Python 3",
   "language": "python",
   "name": "python3"
  },
  "language_info": {
   "codemirror_mode": {
    "name": "ipython",
    "version": 3
   },
   "file_extension": ".py",
   "mimetype": "text/x-python",
   "name": "python",
   "nbconvert_exporter": "python",
   "pygments_lexer": "ipython3",
   "version": "3.7.7"
  }
 },
 "nbformat": 4,
 "nbformat_minor": 4
}
