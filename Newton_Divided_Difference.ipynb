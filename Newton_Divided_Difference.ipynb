{
 "cells": [
  {
   "cell_type": "code",
   "execution_count": 1,
   "metadata": {},
   "outputs": [],
   "source": [
    "%precision %.5f\n",
    "\n",
    "def eval_function(A, points, x):\n",
    "    r, y = len(points), A[0]\n",
    "\n",
    "    for i in range(1, r):\n",
    "        z = 1\n",
    "        for j in range(i):\n",
    "            z *= x - points[j][0]\n",
    "        y += A[i] * z\n",
    "    \n",
    "    return y\n",
    "            \n",
    "def newton_divided_diff(points):\n",
    "    r = len(points)\n",
    "    F = [[0.0 for _ in range(r)] for _ in range(r)]\n",
    "    \n",
    "    for i in range(r):\n",
    "        F[i][0] = points[i][1]\n",
    "     \n",
    "    for i in range(1, r):\n",
    "        for j in range(1, i + 1):\n",
    "            dy = F[i][j - 1] - F[i - 1][j - 1]\n",
    "            dx = points[i][0] - points[i - j][0]\n",
    "            F[i][j] = dy / dx\n",
    "            \n",
    "    A = [F[k][k] for k in range(r)]\n",
    "    \n",
    "    return A"
   ]
  },
  {
   "cell_type": "code",
   "execution_count": 2,
   "metadata": {},
   "outputs": [
    {
     "name": "stdout",
     "output_type": "stream",
     "text": [
      "Interpolating polynomial of degree 1:\n",
      " \tP(x) = 1.00000 + 2.59488x\n",
      "f(0.43) = 2.11580\n"
     ]
    }
   ],
   "source": [
    "# Interpolating polynomial of degree 1\n",
    "points, x = [(0.0, 1.0), (.25, 1.64872)], .43\n",
    "A = newton_divided_diff(points)\n",
    "\n",
    "print('Interpolating polynomial of degree 1:\\n',\n",
    "      '\\tP(x) = {:.5f} + {:.5f}x'.format(A[0], A[1]))\n",
    "\n",
    "print('f(0.43) = {:.5f}'.format(eval_function(A, points, x)))"
   ]
  },
  {
   "cell_type": "code",
   "execution_count": 3,
   "metadata": {},
   "outputs": [
    {
     "name": "stdout",
     "output_type": "stream",
     "text": [
      "Interpolating polynomial of degree 2:\n",
      " \tP(x) = 1.00000 + 2.59488x + 3.36672x(x - 0.25)\n",
      "f(0.43) = 2.37638\n"
     ]
    }
   ],
   "source": [
    "# Interpolating polynomial of degree 2\n",
    "points, x = [(0.0, 1.0), (.25, 1.64872), (.5, 2.71828)], .43\n",
    "A = newton_divided_diff(points)\n",
    "\n",
    "print('Interpolating polynomial of degree 2:\\n',\n",
    "      '\\tP(x) = {:.5f} + {:.5f}x'.format(A[0], A[1]),\n",
    "      '+ {:.5f}x(x - {})'.format(A[2], points[1][0]))\n",
    "\n",
    "print('f(0.43) = {:.5f}'.format(eval_function(A, points, x)))"
   ]
  },
  {
   "cell_type": "code",
   "execution_count": 4,
   "metadata": {},
   "outputs": [
    {
     "name": "stdout",
     "output_type": "stream",
     "text": [
      "Interpolating polynomial of degree 3:\n",
      " \tP(x) = 1.00000 + 2.59488x + 3.36672x(x - 0.25) + 2.91211x(x - 0.5)(x - 0.75)\n",
      "f(0.43) = 2.36060\n"
     ]
    }
   ],
   "source": [
    "# Interpolating polynomial of degree 3\n",
    "points, x = [(0.0, 1.0), (.25, 1.64872), (.5, 2.71828), (.75, 4.48169)], .43\n",
    "A = newton_divided_diff(points)\n",
    "\n",
    "print('Interpolating polynomial of degree 3:\\n',\n",
    "      '\\tP(x) = {:.5f} + {:.5f}x'.format(A[0], A[1]),\n",
    "      '+ {:.5f}x(x - {})'.format(A[2], points[1][0]),\n",
    "      '+ {:.5f}x(x - {})(x - {})'.format(A[3], points[2][0], points[3][0]))\n",
    "\n",
    "print('f(0.43) = {:.5f}'.format(eval_function(A, points, x)))"
   ]
  },
  {
   "cell_type": "code",
   "execution_count": null,
   "metadata": {},
   "outputs": [],
   "source": []
  }
 ],
 "metadata": {
  "kernelspec": {
   "display_name": "Python 3",
   "language": "python",
   "name": "python3"
  },
  "language_info": {
   "codemirror_mode": {
    "name": "ipython",
    "version": 3
   },
   "file_extension": ".py",
   "mimetype": "text/x-python",
   "name": "python",
   "nbconvert_exporter": "python",
   "pygments_lexer": "ipython3",
   "version": "3.7.7"
  }
 },
 "nbformat": 4,
 "nbformat_minor": 4
}
