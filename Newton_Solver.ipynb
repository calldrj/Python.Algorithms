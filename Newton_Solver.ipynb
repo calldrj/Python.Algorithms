{
 "cells": [
  {
   "cell_type": "code",
   "execution_count": 1,
   "metadata": {},
   "outputs": [],
   "source": [
    "import math as m\n",
    "\n",
    "def f(x):\n",
    "    return m.sin(x)\n",
    "\n",
    "def f_prime(x):\n",
    "    return m.cos(x)\n",
    "\n",
    "def newton_solver(p0, upper, lower, N=50, epsilon=10**-5):\n",
    "    n = 1\n",
    "    while p0 < upper and p0 > lower and n < 50:\n",
    "        f_p0, f_prime_p0 = f(p0), f_prime(p0)\n",
    "        p = p0 - f_p0 / f_prime_p0\n",
    "        print('Iteration #{}:\\n\\tp0 = {:.6f}\\t'\n",
    "               'p = {:.6f}\\tf(p0) = {:.6f}\\t'\n",
    "               'f_prime(p0) = {:.6f}\\n'\\\n",
    "               .format(n, p0, p, f_p0, f_prime_p0))\n",
    "        \n",
    "        if abs(p - p0) < epsilon:\n",
    "            return p\n",
    "        \n",
    "        p0, n = p, n + 1\n",
    "        \n",
    "    return None\n"
   ]
  },
  {
   "cell_type": "code",
   "execution_count": 5,
   "metadata": {},
   "outputs": [
    {
     "name": "stdout",
     "output_type": "stream",
     "text": [
      "Iteration #1:\n",
      "\tp0 = 0.900000\tp = -0.360158\tf(p0) = 0.783327\tf_prime(p0) = 0.621610\n",
      "\n",
      "Iteration #2:\n",
      "\tp0 = -0.360158\tp = 0.016425\tf(p0) = -0.352422\tf_prime(p0) = 0.935841\n",
      "\n",
      "Iteration #3:\n",
      "\tp0 = 0.016425\tp = -0.000001\tf(p0) = 0.016425\tf_prime(p0) = 0.999865\n",
      "\n",
      "Iteration #4:\n",
      "\tp0 = -0.000001\tp = 0.000000\tf(p0) = -0.000001\tf_prime(p0) = 1.000000\n",
      "\n",
      "Iteration #5:\n",
      "\tp0 = 0.000000\tp = 0.000000\tf(p0) = 0.000000\tf_prime(p0) = 1.000000\n",
      "\n",
      "root = 0.000000\n"
     ]
    }
   ],
   "source": [
    "lower, upper, epsilon = -.5, 5, 10**-6\n",
    "N, p0 = 15, .9\n",
    "\n",
    "if abs(f(lower)) < epsilon:\n",
    "    print('root = {:.6f}'.format(lower))\n",
    "elif abs(f(upper)) < epsilon :\n",
    "    print('root = {:.6f}'.format(upper))\n",
    "else:\n",
    "    root = newton_solver(p0, upper, lower, N, epsilon)\n",
    "    if root == None:\n",
    "        print('Solver cannot find a root!')\n",
    "    elif root > upper or root < lower:\n",
    "        print('Function does not have a root in ({}, {})!'.format(lower, upper))\n",
    "    else:\n",
    "        print('root = {:.6f}'.format(root))"
   ]
  },
  {
   "cell_type": "code",
   "execution_count": null,
   "metadata": {},
   "outputs": [],
   "source": []
  }
 ],
 "metadata": {
  "kernelspec": {
   "display_name": "Python 3",
   "language": "python",
   "name": "python3"
  },
  "language_info": {
   "codemirror_mode": {
    "name": "ipython",
    "version": 3
   },
   "file_extension": ".py",
   "mimetype": "text/x-python",
   "name": "python",
   "nbconvert_exporter": "python",
   "pygments_lexer": "ipython3",
   "version": "3.7.7"
  }
 },
 "nbformat": 4,
 "nbformat_minor": 4
}
