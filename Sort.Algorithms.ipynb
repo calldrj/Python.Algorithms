{
 "cells": [
  {
   "cell_type": "markdown",
   "metadata": {},
   "source": [
    "#### 1. Selection Ascending Sort \n",
    "Step 1: \n",
    "> Search the min index of the list with O(n)-time complexity      \n",
    "> Swap the min of the array with first item in the list\n",
    "\n",
    "Step 2:\n",
    "> \"Remove\" the first item out of the list search for the min index\n",
    "> Repeat step 1\n",
    "\n",
    "Step 3:\n",
    "> \"Remove\" the second items out of the list search for the min index    \n",
    "> Repeat step 2\n",
    ".\n",
    ".\n",
    ".\n",
    "\n",
    "Step n - 1\n",
    "> \"Remove\" the (n - 2)th item out of the list search for the min index  \n",
    "> Repeat step n - 2"
   ]
  },
  {
   "cell_type": "code",
   "execution_count": 1,
   "metadata": {},
   "outputs": [],
   "source": [
    "def selection_sort(A):\n",
    "    for k in range(len(A)):\n",
    "        # Initialize the index of the current min value\n",
    "        index = k\n",
    "        # \"Remove\" the kth element of out the list search for min value \n",
    "        for m in range(k, len(A)):\n",
    "            # Search for min value in the list and save its index\n",
    "            if A[index] > A[m]:\n",
    "                index = m\n",
    "        # Swap the min value of the array with first item in the list\n",
    "        A[k], A[index] = A[index], A[k]\n",
    "    return A"
   ]
  },
  {
   "cell_type": "code",
   "execution_count": 2,
   "metadata": {},
   "outputs": [
    {
     "name": "stdout",
     "output_type": "stream",
     "text": [
      "[40, 20, 45, 58, 68, 41, 18, 90, 53, 29, 31, 94, 70, 43, 84, 76, 85, 25, 46, 33]\n",
      "[18, 20, 25, 29, 31, 33, 40, 41, 43, 45, 46, 53, 58, 68, 70, 76, 84, 85, 90, 94]\n"
     ]
    }
   ],
   "source": [
    "import random as rd\n",
    "size = 20\n",
    "A = [rd.randint(10, 100) for _ in range(size)]\n",
    "print(A)\n",
    "selection_sort(A)\n",
    "print(A)"
   ]
  },
  {
   "cell_type": "markdown",
   "metadata": {},
   "source": [
    "#### 2. Bubble Ascending Sort\n",
    "Step 1: \n",
    "> Swap the adjacent items if they are out of order (A[k] > A[k+1]) with O(n)-time complexity      \n",
    "\n",
    "Step 2:\n",
    "> Repeat step 1 if there is at least one swap in step 1   \n",
    ".   \n",
    ".   \n",
    ".\n",
    "\n",
    "Step k:\n",
    "> Repeat step k if there is at least one swap in step k - 1"
   ]
  },
  {
   "cell_type": "code",
   "execution_count": 3,
   "metadata": {},
   "outputs": [],
   "source": [
    "def bubble_sort(A):\n",
    "    is_swapped = True\n",
    "    while is_swapped:\n",
    "        is_swapped = False\n",
    "        for k in range(len(A) - 1):\n",
    "            if A[k] > A[k + 1]:\n",
    "                A[k], A[k + 1] = A[k + 1], A[k]\n",
    "                is_swapped = True\n",
    "    return A"
   ]
  },
  {
   "cell_type": "code",
   "execution_count": 4,
   "metadata": {},
   "outputs": [
    {
     "name": "stdout",
     "output_type": "stream",
     "text": [
      "[75, 53, 68, 15, 94, 60, 42, 49, 51, 27, 62, 73, 10, 90, 17, 21, 90, 56, 44, 55]\n",
      "[10, 15, 17, 21, 27, 42, 44, 49, 51, 53, 55, 56, 60, 62, 68, 73, 75, 90, 90, 94]\n"
     ]
    }
   ],
   "source": [
    "A = [rd.randint(10, 100) for k in range(size)]\n",
    "print(A)\n",
    "bubble_sort(A)\n",
    "print(A)"
   ]
  },
  {
   "cell_type": "markdown",
   "metadata": {},
   "source": [
    "#### 3. Insertion Ascending Sort\n",
    "Step 1:\n",
    "Consider the first 2 items in the list, if the last item is in wrong position, do:\n",
    "> Remove and save the last item in a place holder\n",
    "> Shift the left item to the right to correct the order   \n",
    "> Insert the removed item to the correct position \n",
    "\n",
    "Step 2:\n",
    "Consider the first 3 items in the list, if the last item is in wrong position, do:   \n",
    "> Remove and save the last item in a place holder\n",
    "> Shift the left items to the right right to correct the order   \n",
    "> Insert the removed item to the correct position     \n",
    ".              \n",
    ".      \n",
    ".   \n",
    "\n",
    "Repeat the step until it reaches the last item in the list"
   ]
  },
  {
   "cell_type": "code",
   "execution_count": 5,
   "metadata": {},
   "outputs": [],
   "source": [
    "def insertion_sort(A):\n",
    "    for k in range(len(A) - 1):\n",
    "        # Compare the last and the next to last item\n",
    "        if A[k] > A[k + 1]:\n",
    "            # Place the last item and its index in a place holder\n",
    "            index, temp = k + 1, A[k + 1]\n",
    "            # Shift the items in the right to the correct positions\n",
    "            while A[index - 1] > temp and index > 0:\n",
    "                A[index] = A[index - 1]\n",
    "                index -= 1\n",
    "            # Insert the remove item to the correct position\n",
    "            A[index] = temp\n",
    "            "
   ]
  },
  {
   "cell_type": "code",
   "execution_count": 6,
   "metadata": {},
   "outputs": [
    {
     "name": "stdout",
     "output_type": "stream",
     "text": [
      "[22, 71, 89, 60, 99, 66, 91, 14, 27, 67, 56, 64, 99, 51, 11, 13, 22, 68, 10, 22]\n",
      "[10, 11, 13, 14, 22, 22, 22, 27, 51, 56, 60, 64, 66, 67, 68, 71, 89, 91, 99, 99]\n"
     ]
    }
   ],
   "source": [
    "A = [rd.randint(10, 100) for k in range(size)]\n",
    "print(A)\n",
    "insertion_sort(A)\n",
    "print(A)"
   ]
  },
  {
   "cell_type": "markdown",
   "metadata": {},
   "source": [
    "#### 4. Ascending Quick Sort by Randomized Pivot\n",
    "Step 1:   \n",
    "> Randomly select an item of the list and name its value \"pivot\" \n",
    "\n",
    "Step 2:    \n",
    "> Partition the list in 2 sublists using the pivot **(algorithm in 4.b.)**:    \n",
    ">> L contains all items in the list, each with value smaller than the pivot, and   \n",
    ">> R contains all items in the list, each with value greater than the pivot. \n",
    "\n",
    "Step 3:   \n",
    "> Sort sublist L recursively by repeating Step 1 then Step 2     \n",
    "> Sort sublist R recursively by repeating Step 1 then Step 2\n",
    "\n",
    "#### 4.b. Partion of a List with Pivot in the Beginning Position\n",
    "Step 1:\n",
    "> Establish the original to-be-swapped position at the next to the right of the pivot   \n",
    "\n",
    "Step 2:\n",
    "> For each item in the list except the pivot at the beggining:   \n",
    ">> If the value of the curreny item is smaller the pivot:      \n",
    ">>> Swap the current item with to-be-swapped item, and  \n",
    ">>> Move the to-be-swapped position to the right by 1 position  \n",
    "\n",
    "Step 3:\n",
    "> Move the to-be-swapped position the the left by 1 position    \n",
    "> Swap the pivot at the beggining of the list with the to-be-swapped item "
   ]
  },
  {
   "cell_type": "code",
   "execution_count": 7,
   "metadata": {},
   "outputs": [],
   "source": [
    "import random\n",
    "\n",
    "def randomized_quick_sort(A, beg, end):\n",
    "    if beg < end: \n",
    "        piv = randomized_partition(A, beg, end)\n",
    "        randomized_quick_sort(A, beg, piv - 1)\n",
    "        randomized_quick_sort(A, piv + 1, end)\n",
    "        \n",
    "def randomized_partition(A, beg, end):\n",
    "    # Randomly pick a pivot index\n",
    "    piv = beg + random.randint(0, 10**7) % (end - beg + 1)\n",
    "    # Swap the first item with the pivot item for consistent partition algorithm\n",
    "    A[piv], A[beg] = A[beg], A[piv]\n",
    "    return partition(A, beg, end)\n",
    "\n",
    "def partition(A, beg, end):\n",
    "    # Initialize the index of to-be-swapped item \n",
    "    k = beg +  1\n",
    "    for n in range(beg + 1, end + 1):\n",
    "        # Swap the nth item if its value < the pivot\n",
    "        if A[n] < A[beg]:\n",
    "            A[n], A[k] = A[k], A[n]\n",
    "            # Move to-be-swapped index to the right be 1 position\n",
    "            k += 1\n",
    "    # Finally, swap the pivot at first element with the last element of the left sublist\n",
    "    k -= 1\n",
    "    A[beg], A[k] = A[k], A[beg]\n",
    "    return k\n",
    "    "
   ]
  },
  {
   "cell_type": "code",
   "execution_count": 8,
   "metadata": {},
   "outputs": [
    {
     "name": "stdout",
     "output_type": "stream",
     "text": [
      "[78, 90, 53, 95, 20, 72, 43, 72, 71, 81, 93, 57, 18, 21, 98, 24, 91, 10, 20, 45]\n",
      "[10, 18, 20, 20, 21, 24, 43, 45, 53, 57, 71, 72, 72, 78, 81, 90, 91, 93, 95, 98]\n"
     ]
    }
   ],
   "source": [
    "A = [random.randint(10, 99) for _ in range(size)]\n",
    "print(A)\n",
    "randomized_quick_sort(A, 0, size - 1)\n",
    "print(A)"
   ]
  },
  {
   "cell_type": "code",
   "execution_count": null,
   "metadata": {},
   "outputs": [],
   "source": []
  }
 ],
 "metadata": {
  "kernelspec": {
   "display_name": "Python 3",
   "language": "python",
   "name": "python3"
  },
  "language_info": {
   "codemirror_mode": {
    "name": "ipython",
    "version": 3
   },
   "file_extension": ".py",
   "mimetype": "text/x-python",
   "name": "python",
   "nbconvert_exporter": "python",
   "pygments_lexer": "ipython3",
   "version": "3.7.7"
  }
 },
 "nbformat": 4,
 "nbformat_minor": 4
}
