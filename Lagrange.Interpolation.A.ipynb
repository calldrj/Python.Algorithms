{
 "cells": [
  {
   "cell_type": "code",
   "execution_count": 1,
   "metadata": {},
   "outputs": [],
   "source": [
    "import matplotlib.pyplot as plt\n",
    "import numpy as np\n",
    "\n",
    "def eval_function(x):\n",
    "    return np.cos(8 * np.pi * x)\n",
    "    \n",
    "def L_coefficients(X, x):\n",
    "    L = []\n",
    "    for xi in X:\n",
    "        l = 1\n",
    "        for xj in X:\n",
    "            if xi != xj:\n",
    "                l *= (x - xj) / (xi - xj)\n",
    "        L.append(l)\n",
    "    return L\n",
    "\n",
    "def F_coefficents(X):\n",
    "    F = [eval_function(x) for x in X]\n",
    "    return F\n",
    "\n",
    "def eval_P(X, x):\n",
    "    P = [f * l for f, l in zip(F_coefficents(X), L_coefficients(X, x))]\n",
    "    return sum(P)\n",
    "    "
   ]
  },
  {
   "cell_type": "code",
   "execution_count": 2,
   "metadata": {},
   "outputs": [],
   "source": [
    "# Set up points for evaluations\n",
    "a, b, i = 0.001, 0.999, 100\n",
    "X = np.linspace(a, b , num=i + 1)\n",
    "# Compute the evaluations of the actual function\n",
    "Y = [eval_function(x) for x in X]"
   ]
  },
  {
   "cell_type": "code",
   "execution_count": null,
   "metadata": {},
   "outputs": [],
   "source": [
    "min_nodes, max_nodes = 18, 32\n",
    "n_rows = (max_nodes + 1 - min_nodes) // 3\n",
    "fig, axes = plt.subplots(nrows=n_rows, ncols=3)\n",
    "fig.set_size_inches(12, 20)\n",
    "\n",
    "# Set up points for interpolation\n",
    "c, d = 0, 1\n",
    "# Plot a family of interpolating polynomials with order from 18, 32\n",
    "for k in range(min_nodes, max_nodes + 1):\n",
    "    # Generate an array of k + 1 interpolating x-coordinates\n",
    "    A = np.linspace(c, d, num=k + 1)\n",
    "    # Compute interpolated evaluation by Lagrange's algorithm \n",
    "    P = [eval_P(A, x) for x in X]\n",
    "    # Set the plot with 3 columns\n",
    "    ax = axes[(k - min_nodes) // 3][(k - min_nodes) % 3]\n",
    "    # Plot the function\n",
    "    ax.plot(X, Y, linestyle='-', color='g', label='f(x)')\n",
    "    # Plot the interpolating approximation from Lagrange's algorithm \n",
    "    ax.plot(X, P, linestyle='--', color='m', label='Pn(x), n = {}'.format(k))\n",
    "    ax.legend(loc='upper center')\n",
    "plt.show() "
   ]
  },
  {
   "cell_type": "code",
   "execution_count": null,
   "metadata": {},
   "outputs": [],
   "source": [
    "min_nodes, max_nodes = 28, 31\n",
    "n_rows = (max_nodes + 1 - min_nodes) // 2\n",
    "fig, axes = plt.subplots(nrows=n_rows, ncols=2)\n",
    "fig.set_size_inches(12, 20)\n",
    "max_error = 10**-5\n",
    "\n",
    "# Set up points for interpolation\n",
    "c, d = 0, 1\n",
    "for k in range(min_nodes, max_nodes + 1):\n",
    "    # Generate an array of k + 1 interpolating x-coordinates\n",
    "    A = np.linspace(c, d, num=k + 1)\n",
    "    # Compute interpolated evaluation by Lagrange's algorithm\n",
    "    P = [eval_P(A, x) for x in X]\n",
    "    # Compute the errors between the real and the interpolated values\n",
    "    E = [abs(y - p) for y, p in zip(Y, P)]   \n",
    "    # Plot the errors vs. interpolating x-coordinates\n",
    "    ax = axes[(k - min_nodes) // 2][(k - min_nodes) % 2]\n",
    "    ax.plot(X, E, linestyle='-', color='b', label='Error, poly n = {}'.format(k))\n",
    "    ax.plot([a, b], [max_error, max_error], linestyle='--', color='r', label='Max Error')\n",
    "    ax.legend(loc='upper center')\n",
    "plt.show() "
   ]
  },
  {
   "cell_type": "code",
   "execution_count": null,
   "metadata": {},
   "outputs": [],
   "source": []
  }
 ],
 "metadata": {
  "kernelspec": {
   "display_name": "Python 3",
   "language": "python",
   "name": "python3"
  },
  "language_info": {
   "codemirror_mode": {
    "name": "ipython",
    "version": 3
   },
   "file_extension": ".py",
   "mimetype": "text/x-python",
   "name": "python",
   "nbconvert_exporter": "python",
   "pygments_lexer": "ipython3",
   "version": "3.7.7"
  }
 },
 "nbformat": 4,
 "nbformat_minor": 4
}
