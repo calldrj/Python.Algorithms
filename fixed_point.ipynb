{
 "cells": [
  {
   "cell_type": "code",
   "execution_count": 1,
   "metadata": {},
   "outputs": [],
   "source": [
    "import math as m\n",
    "\n",
    "def g(x):\n",
    "    return - x + m.sin(x)\n",
    "\n",
    "def fixed_point_1(p0, N=50, epsilon=10**-5):\n",
    "    n = 1\n",
    "    while n < N:\n",
    "        p = g(p0)\n",
    "        print('Iteration #{}:\\n\\tp0 = {:.6f}\\tp = {:.6f}\\n'.format(n, p0, p))\n",
    "        \n",
    "        if abs(p - p0) < epsilon:\n",
    "            return p\n",
    "        \n",
    "        p0, n = p, n + 1\n",
    "        \n",
    "    return None   "
   ]
  },
  {
   "cell_type": "code",
   "execution_count": 2,
   "metadata": {},
   "outputs": [
    {
     "name": "stdout",
     "output_type": "stream",
     "text": [
      "Iteration #1:\n",
      "\tp0 = 0.535398\tp = -0.025215\n",
      "\n",
      "Iteration #2:\n",
      "\tp0 = -0.025215\tp = 0.000003\n",
      "\n",
      "Iteration #3:\n",
      "\tp0 = 0.000003\tp = -0.000000\n",
      "\n",
      "Iteration #4:\n",
      "\tp0 = -0.000000\tp = 0.000000\n",
      "\n",
      "root = 0.000000\n",
      "|g(root)| =  0.0\n"
     ]
    }
   ],
   "source": [
    "epsilon, N, p0 = 10**-6, 20, 0.535398\n",
    "root = fixed_point_1(p0, N, epsilon)\n",
    "print('root = {:.6f}'.format(root))\n",
    "print('|g(root)| = ', abs(g(root) - root))"
   ]
  },
  {
   "cell_type": "code",
   "execution_count": 3,
   "metadata": {},
   "outputs": [],
   "source": [
    "import math as m\n",
    "\n",
    "def g(x):\n",
    "    return x + m.sin(x)\n",
    "\n",
    "def fixed_point_2(p0, N=50, epsilon=10**-5):\n",
    "    n = 1\n",
    "    while n < N:\n",
    "        p = g(p0)\n",
    "        print('Iteration #{}:\\n\\tp0 = {:.6f}\\tp = {:.6f}\\n'.format(n, p0, p))\n",
    "        \n",
    "        if abs(p - p0) < epsilon:\n",
    "            return p\n",
    "        \n",
    "        p0, n = p, n + 1\n",
    "        \n",
    "    return None   "
   ]
  },
  {
   "cell_type": "code",
   "execution_count": 4,
   "metadata": {},
   "outputs": [
    {
     "name": "stdout",
     "output_type": "stream",
     "text": [
      "Iteration #1:\n",
      "\tp0 = 3.285398\tp = 3.142088\n",
      "\n",
      "Iteration #2:\n",
      "\tp0 = 3.142088\tp = 3.141593\n",
      "\n",
      "Iteration #3:\n",
      "\tp0 = 3.141593\tp = 3.141593\n",
      "\n",
      "root = 3.141593\n",
      "|g(root)| =  0.0\n"
     ]
    }
   ],
   "source": [
    "epsilon, N, p0 = 10**-6, 20, 3.285398\n",
    "root = fixed_point_2(p0, N, epsilon)\n",
    "print('root = {:.6f}'.format(root))\n",
    "print('|g(root)| = ', abs(g(root) - root))"
   ]
  },
  {
   "cell_type": "code",
   "execution_count": null,
   "metadata": {},
   "outputs": [],
   "source": []
  }
 ],
 "metadata": {
  "kernelspec": {
   "display_name": "Python 3",
   "language": "python",
   "name": "python3"
  },
  "language_info": {
   "codemirror_mode": {
    "name": "ipython",
    "version": 3
   },
   "file_extension": ".py",
   "mimetype": "text/x-python",
   "name": "python",
   "nbconvert_exporter": "python",
   "pygments_lexer": "ipython3",
   "version": "3.7.7"
  }
 },
 "nbformat": 4,
 "nbformat_minor": 4
}
