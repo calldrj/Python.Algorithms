{
 "cells": [
  {
   "cell_type": "markdown",
   "metadata": {},
   "source": [
    "#### 1. Seletion Ascending Sort \n",
    "Step 1: \n",
    "> Search the min index of the list with O(n)-time complexity      \n",
    "> Swap the min of the array with first item in the list\n",
    "\n",
    "Step 2:\n",
    "> \"Remove\" the first item out of the list search for the min index\n",
    "> Repeat step 1\n",
    "\n",
    "Step 3:\n",
    "> \"Remove\" the second items out of the list search for the min index    \n",
    "> Repeat step 2\n",
    ".\n",
    ".\n",
    ".\n",
    "\n",
    "Step n - 1\n",
    "> \"Remove\" the (n - 2)th item out of the list search for the min index  \n",
    "> Repeat step n - 2"
   ]
  },
  {
   "cell_type": "code",
   "execution_count": 1,
   "metadata": {},
   "outputs": [],
   "source": [
    "def selection_sort(A):\n",
    "    for k in range(len(A)):\n",
    "        # Initialize the index of the current min value\n",
    "        index = k\n",
    "        # \"Remove\" the kth element of out the list search for min value \n",
    "        for m in range(k, len(A)):\n",
    "            # Search for min value in the list and save its index\n",
    "            if A[index] > A[m]:\n",
    "                index = m\n",
    "        # Swap the min value of the array with first item in the list\n",
    "        A[k], A[index] = A[index], A[k]\n",
    "    return A"
   ]
  },
  {
   "cell_type": "code",
   "execution_count": 3,
   "metadata": {},
   "outputs": [
    {
     "name": "stdout",
     "output_type": "stream",
     "text": [
      "[21, 97, 45, 69, 42, 85, 54, 48, 33, 77, 41, 69, 18, 30, 38, 91, 85, 80, 87, 100]\n",
      "[18, 21, 30, 33, 38, 41, 42, 45, 48, 54, 69, 69, 77, 80, 85, 85, 87, 91, 97, 100]\n"
     ]
    }
   ],
   "source": [
    "import random as rd\n",
    "size = 20\n",
    "A = [rd.randint(10, 100) for k in range(size)]\n",
    "print(A)\n",
    "selection_sort(A)\n",
    "print(A)"
   ]
  },
  {
   "cell_type": "markdown",
   "metadata": {},
   "source": [
    "#### 2. Bubble Ascending Sort\n",
    "Step 1: \n",
    "> Swap the adjacenct items if they are out of order (A[k] > A[k+1]) with O(n)-time complexity      \n",
    "\n",
    "Step 2:\n",
    "> Repeat step 1 if there is at least 1 swap in step 1   \n",
    ".   \n",
    ".   \n",
    ".\n",
    "\n",
    "Step k:\n",
    "> Repeat step k if there is at least 1 swap in step k - 1"
   ]
  },
  {
   "cell_type": "code",
   "execution_count": 5,
   "metadata": {},
   "outputs": [],
   "source": [
    "def bubble_sort(A):\n",
    "    is_swapped = True\n",
    "    while is_swapped:\n",
    "        is_swapped = False\n",
    "        for k in range(len(A) - 1):\n",
    "            if A[k] > A[k + 1]:\n",
    "                A[k], A[k + 1] = A[k + 1], A[k]\n",
    "                is_swapped = True\n",
    "    return A"
   ]
  },
  {
   "cell_type": "code",
   "execution_count": 31,
   "metadata": {},
   "outputs": [
    {
     "name": "stdout",
     "output_type": "stream",
     "text": [
      "[84, 49, 15, 37, 40, 27, 29, 89, 90, 11, 22, 18, 87, 55, 64, 85, 46, 99, 54, 45]\n",
      "[11, 15, 18, 22, 27, 29, 37, 40, 45, 46, 49, 54, 55, 64, 84, 85, 87, 89, 90, 99]\n"
     ]
    }
   ],
   "source": [
    "A = [rd.randint(10, 100) for k in range(size)]\n",
    "print(A)\n",
    "bubble_sort(A)\n",
    "print(A)"
   ]
  },
  {
   "cell_type": "markdown",
   "metadata": {},
   "source": [
    "#### 3. Insertion Ascending Sort\n",
    "Step 1:\n",
    "Consider the first 2 items in the list, if the last item is in wrong position, do:\n",
    "> Remove and save the last item in a place holder\n",
    "> Shift the left item to the right to correct the order   \n",
    "> Insert the removed item to the correct position \n",
    "\n",
    "Step 2:\n",
    "Consider the first 3 items in the list, if the last item is in wrong position, do:   \n",
    "> Remove and save the last item in a place holder\n",
    "> Shift the left items to the right right to correct the order   \n",
    "> Insert the removed item to the correct position     \n",
    ".              \n",
    ".      \n",
    ".   \n",
    "\n",
    "Repeat the step until it reaches the last item in the list"
   ]
  },
  {
   "cell_type": "code",
   "execution_count": 61,
   "metadata": {},
   "outputs": [],
   "source": [
    "def insertion_sort(A):\n",
    "    for k in range(len(A) - 1):\n",
    "        # Compare the last and the next to last item\n",
    "        if A[k] > A[k + 1]:\n",
    "            # Place the last item and its index in a place holder\n",
    "            index, temp = k + 1, A[k + 1]\n",
    "            # Shift the items in the right to the correct positions\n",
    "            while A[index - 1] > temp and index > 0:\n",
    "                A[index] = A[index - 1]\n",
    "                index -= 1\n",
    "            # Insert the remove item to the correct position\n",
    "            A[index] = temp\n",
    "            "
   ]
  },
  {
   "cell_type": "code",
   "execution_count": 63,
   "metadata": {},
   "outputs": [
    {
     "name": "stdout",
     "output_type": "stream",
     "text": [
      "[29, 45, 57, 75, 84, 59, 29, 42, 15, 46, 25, 40, 81, 93, 30, 84, 49, 85, 44, 32]\n",
      "[15, 25, 29, 29, 30, 32, 40, 42, 44, 45, 46, 49, 57, 59, 75, 81, 84, 84, 85, 93]\n"
     ]
    }
   ],
   "source": [
    "A = [rd.randint(10, 100) for k in range(size)]\n",
    "print(A)\n",
    "insertion_sort(A)\n",
    "print(A)"
   ]
  },
  {
   "cell_type": "code",
   "execution_count": null,
   "metadata": {},
   "outputs": [],
   "source": []
  }
 ],
 "metadata": {
  "kernelspec": {
   "display_name": "Python 3",
   "language": "python",
   "name": "python3"
  },
  "language_info": {
   "codemirror_mode": {
    "name": "ipython",
    "version": 3
   },
   "file_extension": ".py",
   "mimetype": "text/x-python",
   "name": "python",
   "nbconvert_exporter": "python",
   "pygments_lexer": "ipython3",
   "version": "3.7.7"
  }
 },
 "nbformat": 4,
 "nbformat_minor": 4
}
