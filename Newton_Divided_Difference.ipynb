{
 "cells": [
  {
   "cell_type": "code",
   "execution_count": 1,
   "metadata": {},
   "outputs": [],
   "source": [
    "%precision %.5f\n",
    "\n",
    "def eval_function(A, points, x):\n",
    "    r, y = len(points), A[0]\n",
    "\n",
    "    for i in range(1, r):\n",
    "        z = 1\n",
    "        for j in range(i):\n",
    "            z *= x - points[j][0]\n",
    "        y += A[i] * z\n",
    "    \n",
    "    return y\n",
    "            \n",
    "def newton_divided_diff(points):\n",
    "    r = len(points)\n",
    "    F = [[0.0 for _ in range(r)] for _ in range(r)]\n",
    "    \n",
    "    for i in range(r):\n",
    "        F[i][0] = points[i][1]\n",
    "     \n",
    "    for i in range(1, r):\n",
    "        for j in range(1, i + 1):\n",
    "            dy = F[i][j - 1] - F[i - 1][j - 1]\n",
    "            dx = points[i][0] - points[i - j][0]\n",
    "            F[i][j] = dy / dx\n",
    "            \n",
    "    A = [F[k][k] for k in range(r)]\n",
    "    \n",
    "    return A"
   ]
  },
  {
   "cell_type": "code",
   "execution_count": 2,
   "metadata": {},
   "outputs": [
    {
     "name": "stdout",
     "output_type": "stream",
     "text": [
      "Interpolating polynomial of degree 1:\n",
      " \tP(x) = 1.00000 + 2.59488x\n",
      "f(0.43) = 2.11580\n"
     ]
    }
   ],
   "source": [
    "# Interpolating polynomial of degree 1\n",
    "points, x = [(0.0, 1.0), (.25, 1.64872)], .43\n",
    "A = newton_divided_diff(points)\n",
    "\n",
    "print('Interpolating polynomial of degree 1:\\n',\n",
    "      '\\tP(x) = {:.5f} + {:.5f}x'.format(A[0], A[1]))\n",
    "\n",
    "print('f(0.43) = {:.5f}'.format(eval_function(A, points, x)))"
   ]
  },
  {
   "cell_type": "code",
   "execution_count": 3,
   "metadata": {},
   "outputs": [
    {
     "name": "stdout",
     "output_type": "stream",
     "text": [
      "Interpolating polynomial of degree 2:\n",
      " \tP(x) = 1.00000 + 2.59488x + 3.36672x(x - 0.25)\n",
      "f(0.43) = 2.37638\n"
     ]
    }
   ],
   "source": [
    "# Interpolating polynomial of degree 2\n",
    "points, x = [(0.0, 1.0), (.25, 1.64872), (.5, 2.71828)], .43\n",
    "A = newton_divided_diff(points)\n",
    "\n",
    "print('Interpolating polynomial of degree 2:\\n',\n",
    "      '\\tP(x) = {:.5f} + {:.5f}x'.format(A[0], A[1]),\n",
    "      '+ {:.5f}x(x - {})'.format(A[2], points[1][0]))\n",
    "\n",
    "print('f(0.43) = {:.5f}'.format(eval_function(A, points, x)))"
   ]
  },
  {
   "cell_type": "code",
   "execution_count": 4,
   "metadata": {
    "scrolled": true
   },
   "outputs": [
    {
     "name": "stdout",
     "output_type": "stream",
     "text": [
      "Interpolating polynomial of degree 3:\n",
      " \tP(x) = 1.00000 + 2.59488x + 3.36672x(x - 0.25) + 2.91211x(x - 0.25)(x - 0.5)\n",
      "f(0.43) = 2.36060\n"
     ]
    }
   ],
   "source": [
    "# Interpolating polynomial of degree 3\n",
    "points, x = [(0.0, 1.0), (.25, 1.64872), (.5, 2.71828), (.75, 4.48169)], .43\n",
    "A = newton_divided_diff(points)\n",
    "\n",
    "print('Interpolating polynomial of degree 3:\\n',\n",
    "      '\\tP(x) = {:.5f} + {:.5f}x'.format(A[0], A[1]),\n",
    "      '+ {:.5f}x(x - {})'.format(A[2], points[1][0]),\n",
    "      '+ {:.5f}x(x - {})(x - {})'.format(A[3], points[1][0], points[2][0]))\n",
    "\n",
    "print('f(0.43) = {:.5f}'.format(eval_function(A, points, x)))"
   ]
  },
  {
   "cell_type": "code",
   "execution_count": 5,
   "metadata": {},
   "outputs": [],
   "source": [
    "%precision %.5f\n",
    "\n",
    "def eval_function(A, points, x):\n",
    "    r, y = len(points), A[0]\n",
    "\n",
    "    for i in range(1, r):\n",
    "        z = 1\n",
    "        for j in range(i):\n",
    "            z *= x - points[j][0]\n",
    "        y += A[i] * z\n",
    "    \n",
    "    return y\n",
    "            \n",
    "def newton_forwarded_diff(points):\n",
    "    r, h = len(points), points[1][0] - points[0][0]\n",
    "    F = [[0.0 for _ in range(r)] for _ in range(r)]\n",
    "    \n",
    "    for i in range(r):\n",
    "        F[i][0] = points[i][1]\n",
    "     \n",
    "    for i in range(1, r):\n",
    "        for j in range(1, i + 1):\n",
    "            dy = F[i][j - 1] - F[i - 1][j - 1]\n",
    "            dx = j * h\n",
    "            F[i][j] = dy / dx\n",
    "            \n",
    "    A = [F[k][k] for k in range(r)]\n",
    "    \n",
    "    return A"
   ]
  },
  {
   "cell_type": "code",
   "execution_count": 6,
   "metadata": {},
   "outputs": [
    {
     "name": "stdout",
     "output_type": "stream",
     "text": [
      "Interpolating polynomial of degree 1:\n",
      " \tP(x) = 1.00000 + 2.59488x\n",
      "f(0.43) = 2.11580\n"
     ]
    }
   ],
   "source": [
    "# Interpolating polynomial of degree 1\n",
    "points, x = [(0.0, 1.0), (.25, 1.64872)], .43\n",
    "B = newton_forwarded_diff(points)\n",
    "\n",
    "print('Interpolating polynomial of degree 1:\\n',\n",
    "      '\\tP(x) = {:.5f} + {:.5f}x'.format(B[0], B[1]))\n",
    "\n",
    "print('f(0.43) = {:.5f}'.format(eval_function(B, points, x)))"
   ]
  },
  {
   "cell_type": "code",
   "execution_count": 7,
   "metadata": {},
   "outputs": [
    {
     "name": "stdout",
     "output_type": "stream",
     "text": [
      "Interpolating polynomial of degree 2:\n",
      " \tP(x) = 1.00000 + 2.59488x + 3.36672x(x - 0.25)\n",
      "f(0.43) = 2.37638\n"
     ]
    }
   ],
   "source": [
    "# Interpolating polynomial of degree 2\n",
    "points, x = [(0.0, 1.0), (.25, 1.64872), (.5, 2.71828)], .43\n",
    "B = newton_forwarded_diff(points)\n",
    "\n",
    "print('Interpolating polynomial of degree 2:\\n',\n",
    "      '\\tP(x) = {:.5f} + {:.5f}x'.format(B[0], B[1]),\n",
    "      '+ {:.5f}x(x - {})'.format(B[2], points[1][0]))\n",
    "\n",
    "print('f(0.43) = {:.5f}'.format(eval_function(B, points, x)))"
   ]
  },
  {
   "cell_type": "code",
   "execution_count": 8,
   "metadata": {},
   "outputs": [
    {
     "name": "stdout",
     "output_type": "stream",
     "text": [
      "Interpolating polynomial of degree 3:\n",
      " \tP(x) = 1.00000 + 2.59488x + 3.36672x(x - 0.25) + 2.91211x(x - 0.25)(x - 0.5)\n",
      "f(0.43) = 2.36060\n"
     ]
    }
   ],
   "source": [
    "# Interpolating polynomial of degree 3\n",
    "points, x = [(0.0, 1.0), (.25, 1.64872), (.5, 2.71828), (.75, 4.48169)], .43\n",
    "B = newton_forwarded_diff(points)\n",
    "\n",
    "print('Interpolating polynomial of degree 3:\\n',\n",
    "      '\\tP(x) = {:.5f} + {:.5f}x'.format(B[0], B[1]),\n",
    "      '+ {:.5f}x(x - {})'.format(B[2], points[1][0]),\n",
    "      '+ {:.5f}x(x - {})(x - {})'.format(B[3], points[1][0], points[2][0]))\n",
    "\n",
    "print('f(0.43) = {:.5f}'.format(eval_function(B, points, x)))"
   ]
  },
  {
   "cell_type": "code",
   "execution_count": 9,
   "metadata": {},
   "outputs": [
    {
     "name": "stdout",
     "output_type": "stream",
     "text": [
      "Interpolating polynomial of degree 1:\n",
      " \tP(x) = 1.64872 + 2.59488(x - 0.25)\n",
      "f(0.43) = 2.11580\n"
     ]
    }
   ],
   "source": [
    "# Interpolating polynomial of degree 1\n",
    "points, x = [(0.25, 1.64872), (0.0, 1.0)], .43\n",
    "C = newton_forwarded_diff(points)\n",
    "\n",
    "print('Interpolating polynomial of degree 1:\\n',\n",
    "      '\\tP(x) = {:.5f} + {:.5f}(x - {})'.format(C[0], C[1], points[0][0]))\n",
    "\n",
    "print('f(0.43) = {:.5f}'.format(eval_function(C, points, x)))"
   ]
  },
  {
   "cell_type": "code",
   "execution_count": 10,
   "metadata": {},
   "outputs": [
    {
     "name": "stdout",
     "output_type": "stream",
     "text": [
      "Interpolating polynomial of degree 2:\n",
      " \tP(x) = 2.71828 + 4.27824(x - 0.5) + 3.36672(x - 0.5)(x - 0.25)\n",
      "f(0.43) = 2.37638\n"
     ]
    }
   ],
   "source": [
    "# Interpolating polynomial of degree 2\n",
    "points, x = [(0.5, 2.71828), (0.25, 1.64872), (0.0, 1.0)], .43\n",
    "C = newton_forwarded_diff(points)\n",
    "\n",
    "print('Interpolating polynomial of degree 2:\\n',\n",
    "      '\\tP(x) = {:.5f} + {:.5f}(x - {})'.format(C[0], C[1], points[0][0]),\n",
    "      '+ {:.5f}(x - {})(x - {})'.format(C[2], points[0][0], points[1][0]))\n",
    "\n",
    "print('f(0.43) = {:.5f}'.format(eval_function(C, points, x)))"
   ]
  },
  {
   "cell_type": "code",
   "execution_count": 11,
   "metadata": {},
   "outputs": [
    {
     "name": "stdout",
     "output_type": "stream",
     "text": [
      "Interpolating polynomial of degree 3:\n",
      " \tP(x) = 4.48169 + 7.05364(x - 0.75) + 5.55080(x - 0.75)(x - 0.5) + 2.91211(x - 0.75)(x - 0.5)(x - 0.25)\n",
      "f(0.43) = 2.36060\n"
     ]
    }
   ],
   "source": [
    "# Interpolating polynomial of degree 3\n",
    "points, x = [(0.75, 4.48169), (0.5, 2.71828), (0.25, 1.64872), (0.0, 1.0)], .43\n",
    "C = newton_forwarded_diff(points)\n",
    "\n",
    "print('Interpolating polynomial of degree 3:\\n',\n",
    "      '\\tP(x) = {:.5f} + {:.5f}(x - {})'.format(C[0], C[1], points[0][0]),\n",
    "      '+ {:.5f}(x - {})(x - {})'.format(C[2], points[0][0], points[1][0]),\n",
    "      '+ {:.5f}(x - {})(x - {})(x - {})'.format(C[3], points[0][0], points[1][0], points[2][0]))\n",
    "\n",
    "print('f(0.43) = {:.5f}'.format(eval_function(C, points, x)))"
   ]
  },
  {
   "cell_type": "code",
   "execution_count": null,
   "metadata": {},
   "outputs": [],
   "source": []
  }
 ],
 "metadata": {
  "kernelspec": {
   "display_name": "Python 3",
   "language": "python",
   "name": "python3"
  },
  "language_info": {
   "codemirror_mode": {
    "name": "ipython",
    "version": 3
   },
   "file_extension": ".py",
   "mimetype": "text/x-python",
   "name": "python",
   "nbconvert_exporter": "python",
   "pygments_lexer": "ipython3",
   "version": "3.7.7"
  }
 },
 "nbformat": 4,
 "nbformat_minor": 4
}
