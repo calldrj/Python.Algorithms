{
 "cells": [
  {
   "cell_type": "code",
   "execution_count": 1,
   "metadata": {},
   "outputs": [],
   "source": [
    "import math as m\n",
    "\n",
    "def sign(f):\n",
    "    s = 1 if f > 0 else -1\n",
    "    return s\n",
    "\n",
    "def f(x):\n",
    "    f = 3 * x - m.exp(x)\n",
    "    return f\n",
    "\n",
    "def bisection(a, b, epsilon=10**(-5)):\n",
    "    p = a + (b - a) / 2\n",
    "    \n",
    "    while b - a > epsilon:\n",
    "        if f(p) == 0:\n",
    "            return p\n",
    "        \n",
    "        if sign(f(p)) * sign(f(a)) < 0:\n",
    "            b = p\n",
    "        else:\n",
    "            a = p\n",
    "            \n",
    "        p = a + (b - a) / 2\n",
    "    \n",
    "    return p\n",
    "            \n",
    "    "
   ]
  },
  {
   "cell_type": "code",
   "execution_count": 2,
   "metadata": {},
   "outputs": [
    {
     "name": "stdout",
     "output_type": "stream",
     "text": [
      "1.5121345520019531\n",
      "-5.28692645218598e-10\n"
     ]
    }
   ],
   "source": [
    "a, b = 1, 2\n",
    "root = bisection(a, b)\n",
    "print(root)\n",
    "print(f(root))"
   ]
  },
  {
   "cell_type": "code",
   "execution_count": null,
   "metadata": {},
   "outputs": [],
   "source": []
  }
 ],
 "metadata": {
  "kernelspec": {
   "display_name": "Python 3",
   "language": "python",
   "name": "python3"
  },
  "language_info": {
   "codemirror_mode": {
    "name": "ipython",
    "version": 3
   },
   "file_extension": ".py",
   "mimetype": "text/x-python",
   "name": "python",
   "nbconvert_exporter": "python",
   "pygments_lexer": "ipython3",
   "version": "3.7.7"
  }
 },
 "nbformat": 4,
 "nbformat_minor": 4
}
