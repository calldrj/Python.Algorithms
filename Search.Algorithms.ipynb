{
 "cells": [
  {
   "cell_type": "code",
   "execution_count": 1,
   "metadata": {},
   "outputs": [],
   "source": [
    "def recursive_binary_search(A, n):\n",
    "    mid = len(A) // 2\n",
    "    if mid == 0 and A[mid] != n:\n",
    "        return False\n",
    "    elif A[mid] > n:\n",
    "        return recursive_binary_search(A[:mid], n)\n",
    "    elif A[mid] < n:\n",
    "        return recursive_binary_search(A[-mid:], n)\n",
    "    else:\n",
    "        return True"
   ]
  },
  {
   "cell_type": "code",
   "execution_count": 2,
   "metadata": {},
   "outputs": [],
   "source": [
    "def iteration_binary_search(A, n):\n",
    "    beg, end = 0, len(A) - 1\n",
    "    mid = (beg + end) // 2\n",
    "    while beg <= end:\n",
    "        if A[mid] == n:\n",
    "            return True\n",
    "        elif A[mid] > n:\n",
    "            end = mid - 1\n",
    "            mid = (beg + end) // 2\n",
    "        else:\n",
    "            beg = mid + 1\n",
    "            mid = (beg + end) // 2\n",
    "    return False "
   ]
  },
  {
   "cell_type": "code",
   "execution_count": 3,
   "metadata": {},
   "outputs": [
    {
     "name": "stdout",
     "output_type": "stream",
     "text": [
      "[19, 26, 26, 29, 32, 37, 39, 43, 56, 61, 64, 69, 69, 70, 72, 74, 74, 74, 74, 77, 79, 85, 86, 92, 93]\n",
      "[83, 14, 27, 59, 48, 80, 86, 87]\n",
      "\n",
      "Test recursive binary search function:\n",
      "False\n",
      "False\n",
      "False\n",
      "False\n",
      "False\n",
      "False\n",
      "True\n",
      "False\n",
      "\n",
      "Test interation binary search function:\n",
      "False\n",
      "False\n",
      "False\n",
      "False\n",
      "False\n",
      "False\n",
      "True\n",
      "False\n"
     ]
    }
   ],
   "source": [
    "import random\n",
    "size = 25\n",
    "A = [random.randint(10, 99) for _ in range(size)]\n",
    "B = [random.randint(10, 99) for _ in range(size // 3)]\n",
    "A = sorted(A)\n",
    "\n",
    "print(A)\n",
    "print(B)\n",
    "\n",
    "print('\\nTest recursive binary search function:')\n",
    "for n in B:\n",
    "    print(recursive_binary_search(A, n))\n",
    "\n",
    "print('\\nTest interation binary search function:')\n",
    "for n in B:\n",
    "    print(iteration_binary_search(A, n))   "
   ]
  },
  {
   "cell_type": "code",
   "execution_count": null,
   "metadata": {},
   "outputs": [],
   "source": []
  },
  {
   "cell_type": "code",
   "execution_count": null,
   "metadata": {},
   "outputs": [],
   "source": []
  }
 ],
 "metadata": {
  "kernelspec": {
   "display_name": "Python 3",
   "language": "python",
   "name": "python3"
  },
  "language_info": {
   "codemirror_mode": {
    "name": "ipython",
    "version": 3
   },
   "file_extension": ".py",
   "mimetype": "text/x-python",
   "name": "python",
   "nbconvert_exporter": "python",
   "pygments_lexer": "ipython3",
   "version": "3.7.7"
  }
 },
 "nbformat": 4,
 "nbformat_minor": 4
}
