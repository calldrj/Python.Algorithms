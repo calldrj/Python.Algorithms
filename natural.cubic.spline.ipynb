{
 "cells": [
  {
   "cell_type": "code",
   "execution_count": 1,
   "metadata": {},
   "outputs": [],
   "source": [
    "import matplotlib.pyplot as plt\n",
    "import numpy as np\n",
    "\n",
    "def eval_function(x):\n",
    "    return np.cos(np.pi * x)"
   ]
  },
  {
   "cell_type": "code",
   "execution_count": 2,
   "metadata": {},
   "outputs": [
    {
     "data": {
      "text/plain": [
       "{4: (0, 0, 0, 0),\n",
       " 3: (-0.7071067811865475, -2.0, 4.97056274847714, -6.62741699796952),\n",
       " 2: (6.123233995736766e-17,\n",
       "  -3.242640687119285,\n",
       "  4.440892098500626e-16,\n",
       "  6.627416997969519),\n",
       " 1: (0.7071067811865476,\n",
       "  -1.9999999999999996,\n",
       "  -4.970562748477142,\n",
       "  6.627416997969523),\n",
       " 0: (1.0, -0.7573593128807146, 0.0, -6.627416997969522)}"
      ]
     },
     "execution_count": 2,
     "metadata": {},
     "output_type": "execute_result"
    }
   ],
   "source": [
    "# Set up points for evaluations of the actual function and the interpolation algorithm\n",
    "a, b, i = 0, 1, 4\n",
    "X = np.linspace(a, b , num=i + 1)\n",
    "\n",
    "# Evaluate the actual function at interpolating point\n",
    "A = [eval_function(x) for x in X] \n",
    "\n",
    "h = (b - a) / i\n",
    "T = [(1, 0, 0)] \n",
    "\n",
    "for k in range(1, i):\n",
    "    l = (4 - T[k - 1][1]) * h\n",
    "    m = h / l\n",
    "    t = (A[k + 1] - 2 * A[k] + A[k - 1]) * 3 / h\n",
    "    z = (t - h * T[k - 1][2]) / l\n",
    "    T.append((l, m, z))\n",
    "\n",
    "T.append((1, 0, 0))\n",
    "\n",
    "O = {}\n",
    "O[i] = (0, 0, 0, 0) \n",
    "for k in reversed(range(i)):\n",
    "    c = T[k][2] - T[k][1] * O[k + 1][2]\n",
    "    b = (A[k + 1] - A[k]) / h - h * (O[k + 1][2] + 2 * c) / 3\n",
    "    d = (O[k + 1][2] - c) / 3 / h\n",
    "    O[k] = (A[k], b, c, d)\n",
    "O"
   ]
  },
  {
   "cell_type": "code",
   "execution_count": null,
   "metadata": {},
   "outputs": [],
   "source": []
  }
 ],
 "metadata": {
  "kernelspec": {
   "display_name": "Python 3",
   "language": "python",
   "name": "python3"
  },
  "language_info": {
   "codemirror_mode": {
    "name": "ipython",
    "version": 3
   },
   "file_extension": ".py",
   "mimetype": "text/x-python",
   "name": "python",
   "nbconvert_exporter": "python",
   "pygments_lexer": "ipython3",
   "version": "3.7.7"
  }
 },
 "nbformat": 4,
 "nbformat_minor": 4
}
