{
 "cells": [
  {
   "cell_type": "code",
   "execution_count": 15,
   "metadata": {},
   "outputs": [],
   "source": [
    "import math as m\n",
    "\n",
    "def sign(f):\n",
    "    s = 1 if f > 0 else -1\n",
    "    return s\n",
    "\n",
    "def f(x):\n",
    "    return m.sin(x)\n",
    "\n",
    "def f_prime(x):\n",
    "    return m.cos(x)\n",
    "\n",
    "def newton_solver(p0, upper, lower, N=50, epsilon=10**-5):\n",
    "    n = 1\n",
    "    while p0 < upper and p0 > lower and n < 50:\n",
    "        p = p0 - f(p0) / f_prime(p0)\n",
    "        print('Iteration #{}:\\n\\tp0 = {:.6f}\\tp = {:.6f}\\tf(p) = {:.6f}\\n'\\\n",
    "              .format(n, p0, p, f(p)))\n",
    "        \n",
    "        if abs(p - p0) < epsilon:\n",
    "            return p\n",
    "        \n",
    "        p0, n = p, n + 1\n",
    "        \n",
    "    return None\n"
   ]
  },
  {
   "cell_type": "code",
   "execution_count": 24,
   "metadata": {},
   "outputs": [
    {
     "name": "stdout",
     "output_type": "stream",
     "text": [
      "root = 0.000000\n"
     ]
    }
   ],
   "source": [
    "lower, upper, epsilon = 0, m.pi, 10**-6\n",
    "N, p0 = 50, lower\n",
    "\n",
    "if abs(f(lower)) < epsilon:\n",
    "    print('root = {:.6f}'.format(lower))\n",
    "elif abs(f(upper)) < epsilon :\n",
    "    print('root = {:.6f}'.format(upper))\n",
    "else:\n",
    "    root = newton_solver(p0, upper, lower, N, epsilon)\n",
    "    if root == None:\n",
    "        print('Solver cannot find a root!')\n",
    "    elif root > upper or root < lower:\n",
    "        print('Function does not have a root in ({}, {})!'.format(lower, upper))\n",
    "    else:\n",
    "        print('root = {:.6f}'.format(root))"
   ]
  },
  {
   "cell_type": "code",
   "execution_count": null,
   "metadata": {},
   "outputs": [],
   "source": []
  }
 ],
 "metadata": {
  "kernelspec": {
   "display_name": "Python 3",
   "language": "python",
   "name": "python3"
  },
  "language_info": {
   "codemirror_mode": {
    "name": "ipython",
    "version": 3
   },
   "file_extension": ".py",
   "mimetype": "text/x-python",
   "name": "python",
   "nbconvert_exporter": "python",
   "pygments_lexer": "ipython3",
   "version": "3.7.7"
  }
 },
 "nbformat": 4,
 "nbformat_minor": 4
}
