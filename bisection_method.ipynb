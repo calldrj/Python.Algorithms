{
 "cells": [
  {
   "cell_type": "code",
   "execution_count": 1,
   "metadata": {},
   "outputs": [],
   "source": [
    "import math as m\n",
    "\n",
    "def sign(f):\n",
    "    s = 1 if f > 0 else -1\n",
    "    return s\n",
    "\n",
    "def f(x):\n",
    "    f = x*x - 3\n",
    "    return f\n",
    "\n",
    "def bisection(a, b, epsilon=10**(-5)):\n",
    "    p, n = a + (b - a) / 2, 0\n",
    "    \n",
    "    while b - a > epsilon:\n",
    "        if f(p) == 0:\n",
    "            return p\n",
    "        \n",
    "        if sign(f(p)) * sign(f(a)) < 0:\n",
    "            b = p\n",
    "        else:\n",
    "            a = p\n",
    "        \n",
    "        p, n = a + (b - a) / 2, n + 1\n",
    "        print('Iteration #{}:\\n\\ta = {:.6f}\\tb = {:.6f}\\tp = {:.6f}\\tf(p) = {:.6f}\\n'\\\n",
    "              .format(n, a, b, p, f(p)))\n",
    "    return p"
   ]
  },
  {
   "cell_type": "code",
   "execution_count": 2,
   "metadata": {},
   "outputs": [
    {
     "name": "stdout",
     "output_type": "stream",
     "text": [
      "Iteration #1:\n",
      "\ta = 1.500000\tb = 2.000000\tp = 1.750000\tf(p) = 0.062500\n",
      "\n",
      "Iteration #2:\n",
      "\ta = 1.500000\tb = 1.750000\tp = 1.625000\tf(p) = -0.359375\n",
      "\n",
      "Iteration #3:\n",
      "\ta = 1.625000\tb = 1.750000\tp = 1.687500\tf(p) = -0.152344\n",
      "\n",
      "Iteration #4:\n",
      "\ta = 1.687500\tb = 1.750000\tp = 1.718750\tf(p) = -0.045898\n",
      "\n",
      "Iteration #5:\n",
      "\ta = 1.718750\tb = 1.750000\tp = 1.734375\tf(p) = 0.008057\n",
      "\n",
      "Iteration #6:\n",
      "\ta = 1.718750\tb = 1.734375\tp = 1.726562\tf(p) = -0.018982\n",
      "\n",
      "Iteration #7:\n",
      "\ta = 1.726562\tb = 1.734375\tp = 1.730469\tf(p) = -0.005478\n",
      "\n",
      "Iteration #8:\n",
      "\ta = 1.730469\tb = 1.734375\tp = 1.732422\tf(p) = 0.001286\n",
      "\n",
      "Iteration #9:\n",
      "\ta = 1.730469\tb = 1.732422\tp = 1.731445\tf(p) = -0.002097\n",
      "\n",
      "Iteration #10:\n",
      "\ta = 1.731445\tb = 1.732422\tp = 1.731934\tf(p) = -0.000406\n",
      "\n",
      "Iteration #11:\n",
      "\ta = 1.731934\tb = 1.732422\tp = 1.732178\tf(p) = 0.000440\n",
      "\n",
      "Iteration #12:\n",
      "\ta = 1.731934\tb = 1.732178\tp = 1.732056\tf(p) = 0.000017\n",
      "\n",
      "Iteration #13:\n",
      "\ta = 1.731934\tb = 1.732056\tp = 1.731995\tf(p) = -0.000195\n",
      "\n",
      "Iteration #14:\n",
      "\ta = 1.731995\tb = 1.732056\tp = 1.732025\tf(p) = -0.000089\n",
      "\n",
      "root =  1.732025146484375\n",
      "|f(root)| =  8.889194577932358e-05\n"
     ]
    }
   ],
   "source": [
    "a, b, epsilon = 1, 2, 10**-4\n",
    "root = bisection(a, b, epsilon)\n",
    "print('root = ', root)\n",
    "print('|f(root)| = ', abs(f(root)))"
   ]
  },
  {
   "cell_type": "code",
   "execution_count": null,
   "metadata": {},
   "outputs": [],
   "source": []
  }
 ],
 "metadata": {
  "kernelspec": {
   "display_name": "Python 3",
   "language": "python",
   "name": "python3"
  },
  "language_info": {
   "codemirror_mode": {
    "name": "ipython",
    "version": 3
   },
   "file_extension": ".py",
   "mimetype": "text/x-python",
   "name": "python",
   "nbconvert_exporter": "python",
   "pygments_lexer": "ipython3",
   "version": "3.7.7"
  }
 },
 "nbformat": 4,
 "nbformat_minor": 4
}
